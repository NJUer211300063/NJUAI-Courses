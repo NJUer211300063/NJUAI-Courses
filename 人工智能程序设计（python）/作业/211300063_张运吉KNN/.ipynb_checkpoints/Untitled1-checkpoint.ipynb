{
 "cells": [
  {
   "cell_type": "code",
   "execution_count": 69,
   "id": "605c5d23",
   "metadata": {},
   "outputs": [],
   "source": [
    "from sklearn.model_selection import train_test_split\n",
    "from sklearn.neighbors import KNeighborsClassifier\n",
    "from sklearn.neighbors import RadiusNeighborsClassifier\n",
    "import pandas as pd\n",
    "import numpy as np\n",
    "\n",
    "\n",
    "data1 = pd.read_excel(\"作业附件.xlsx\", 0)\n",
    "data2 = pd.read_excel(\"作业附件.xlsx\", 1)\n",
    "data3 = data1.iloc[:, 2:]\n",
    "data = pd.concat([data2, data3], axis=1)\n",
    "data_no_nan = data.dropna(axis=0, how='any')\n",
    "dataset_pd = data_no_nan.iloc[:, 1:]\n",
    "dataset_np = np.array(dataset_pd)\n",
    "x = dataset_pd.iloc[:, 1:]\n",
    "y = dataset_pd.iloc[:, 0:1]\n",
    "\n",
    "\n"
   ]
  },
  {
   "cell_type": "code",
   "execution_count": 111,
   "id": "569bf4fa",
   "metadata": {
    "scrolled": true
   },
   "outputs": [
    {
     "name": "stdout",
     "output_type": "stream",
     "text": [
      "X_train shape:(171, 9444)\n",
      "X_test shape:(57, 9444)\n",
      "y_train shape:(171, 1)\n",
      "y_test shape:(57, 1)\n",
      "KNeighborsClassifier(n_neighbors=1)\n",
      "测试数据集得分：0.58\n"
     ]
    }
   ],
   "source": [
    "# 将数据集拆分为训练数据集和测试数据集\n",
    "X_train, X_test, y_train, y_test = train_test_split(x, y, random_state=0)\n",
    "print(\"X_train shape:{}\".format(X_train.shape))\n",
    "print(\"X_test shape:{}\".format(X_test.shape))\n",
    "print(\"y_train shape:{}\".format(y_train.shape))\n",
    "print(\"y_test shape:{}\".format(y_test.shape))\n",
    "\n",
    "knn = KNeighborsClassifier(n_neighbors=1)\n",
    "knn.fit(X_train, y_train.values.ravel())\n",
    "print(knn)\n",
    "\n",
    "# 评估模型的准确率\n",
    "print('测试数据集得分：{:.2f}'.format(knn.score(X_test, y_test)))\n",
    "\n",
    "# # 使用建好的模型对新酒进行分类预测\n",
    "# X_new = np.array([[13.2, 2.77, 2.51, 18.5, 96.6, 1.04, 2.55, 0.57, 1.47, 6.2, 1.05, 3.33, 820]])\n",
    "# prediction = knn.predict(X_new)\n",
    "# print(\"预测新酒的分类为：{}\".format(wineDataSet['target_names'][prediction]))\n"
   ]
  },
  {
   "cell_type": "code",
   "execution_count": 72,
   "id": "8f098ec3",
   "metadata": {
    "scrolled": true
   },
   "outputs": [
    {
     "data": {
      "text/plain": [
       "array([[0.026602, 0.031197, 0.031197, ..., 0.420397, 0.420397, 0.420764],\n",
       "       [0.027282, 0.033386, 0.033386, ..., 0.382062, 0.382062, 0.382062],\n",
       "       [0.019621, 0.028953, 0.028953, ..., 0.401349, 0.401349, 0.40136 ],\n",
       "       ...,\n",
       "       [0.027764, 0.032729, 0.032729, ..., 0.411746, 0.411746, 0.412464],\n",
       "       [0.027499, 0.032351, 0.032351, ..., 0.421788, 0.421788, 0.422105],\n",
       "       [0.024927, 0.027879, 0.027879, ..., 0.430377, 0.430377, 0.430383]])"
      ]
     },
     "execution_count": 72,
     "metadata": {},
     "output_type": "execute_result"
    }
   ],
   "source": [
    "np.array(data)[[0,1,2,3,5,6,7,9,11,13,26,31,60,65,69]][:,2:]"
   ]
  },
  {
   "cell_type": "code",
   "execution_count": 110,
   "id": "7defa126",
   "metadata": {},
   "outputs": [
    {
     "data": {
      "text/plain": [
       "array([14., 13., 17., 16.,  5.,  7.,  1., 16.,  4.,  2.,  6.,  8.,  8.,\n",
       "        1., 11.])"
      ]
     },
     "execution_count": 110,
     "metadata": {},
     "output_type": "execute_result"
    }
   ],
   "source": [
    "# 预测结果\n",
    "prediction = knn.predict(np.array(data)[[0,1,2,3,5,6,7,9,11,13,26,31,60,65,69]][:,2:])\n",
    "prediction"
   ]
  },
  {
   "cell_type": "code",
   "execution_count": 92,
   "id": "2cd436c0",
   "metadata": {},
   "outputs": [],
   "source": [
    "def accuracy(pred, actual):\n",
    "    count = 0\n",
    "    for i in range(len(actual)):\n",
    "        if pred[i] == actual[i][0]:\n",
    "            count += 1\n",
    "    return count / len(actual) * 100.0"
   ]
  },
  {
   "cell_type": "code",
   "execution_count": 106,
   "id": "921a89da",
   "metadata": {},
   "outputs": [
    {
     "name": "stdout",
     "output_type": "stream",
     "text": [
      "92.5\n"
     ]
    }
   ],
   "source": [
    "lst = []\n",
    "for i in range(10):\n",
    "    arr1 = np.random.randint(228,size=(20,))\n",
    "    prediction1 = knn.predict(dataset_np[arr1][:,1:])\n",
    "    acc = accuracy(prediction1, dataset_np[arr1][:,])\n",
    "    lst.append(acc)\n",
    "print(sum(lst) / 10)"
   ]
  }
 ],
 "metadata": {
  "kernelspec": {
   "display_name": "Python 3 (ipykernel)",
   "language": "python",
   "name": "python3"
  },
  "language_info": {
   "codemirror_mode": {
    "name": "ipython",
    "version": 3
   },
   "file_extension": ".py",
   "mimetype": "text/x-python",
   "name": "python",
   "nbconvert_exporter": "python",
   "pygments_lexer": "ipython3",
   "version": "3.9.12"
  }
 },
 "nbformat": 4,
 "nbformat_minor": 5
}
