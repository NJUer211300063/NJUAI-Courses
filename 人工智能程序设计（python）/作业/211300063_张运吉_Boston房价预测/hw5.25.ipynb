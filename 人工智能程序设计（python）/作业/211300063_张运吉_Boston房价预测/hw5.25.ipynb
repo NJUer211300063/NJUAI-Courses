{
 "cells": [
  {
   "cell_type": "code",
   "execution_count": 1,
   "id": "697e4025",
   "metadata": {
    "scrolled": true
   },
   "outputs": [
    {
     "data": {
      "text/html": [
       "<div>\n",
       "<style scoped>\n",
       "    .dataframe tbody tr th:only-of-type {\n",
       "        vertical-align: middle;\n",
       "    }\n",
       "\n",
       "    .dataframe tbody tr th {\n",
       "        vertical-align: top;\n",
       "    }\n",
       "\n",
       "    .dataframe thead th {\n",
       "        text-align: right;\n",
       "    }\n",
       "</style>\n",
       "<table border=\"1\" class=\"dataframe\">\n",
       "  <thead>\n",
       "    <tr style=\"text-align: right;\">\n",
       "      <th></th>\n",
       "      <th>crim</th>\n",
       "      <th>zn</th>\n",
       "      <th>indus</th>\n",
       "      <th>chas</th>\n",
       "      <th>nox</th>\n",
       "      <th>rm</th>\n",
       "      <th>age</th>\n",
       "      <th>dis</th>\n",
       "      <th>rad</th>\n",
       "      <th>tax</th>\n",
       "      <th>ptratio</th>\n",
       "      <th>black</th>\n",
       "      <th>lstat</th>\n",
       "      <th>medv</th>\n",
       "    </tr>\n",
       "  </thead>\n",
       "  <tbody>\n",
       "    <tr>\n",
       "      <th>0</th>\n",
       "      <td>0.00632</td>\n",
       "      <td>18.0</td>\n",
       "      <td>2.31</td>\n",
       "      <td>0</td>\n",
       "      <td>0.538</td>\n",
       "      <td>6.575</td>\n",
       "      <td>65.2</td>\n",
       "      <td>4.0900</td>\n",
       "      <td>1</td>\n",
       "      <td>296</td>\n",
       "      <td>15.3</td>\n",
       "      <td>396.90</td>\n",
       "      <td>4.98</td>\n",
       "      <td>24.0</td>\n",
       "    </tr>\n",
       "    <tr>\n",
       "      <th>1</th>\n",
       "      <td>0.02731</td>\n",
       "      <td>0.0</td>\n",
       "      <td>7.07</td>\n",
       "      <td>0</td>\n",
       "      <td>0.469</td>\n",
       "      <td>6.421</td>\n",
       "      <td>78.9</td>\n",
       "      <td>4.9671</td>\n",
       "      <td>2</td>\n",
       "      <td>242</td>\n",
       "      <td>17.8</td>\n",
       "      <td>396.90</td>\n",
       "      <td>9.14</td>\n",
       "      <td>21.6</td>\n",
       "    </tr>\n",
       "    <tr>\n",
       "      <th>2</th>\n",
       "      <td>0.02729</td>\n",
       "      <td>0.0</td>\n",
       "      <td>7.07</td>\n",
       "      <td>0</td>\n",
       "      <td>0.469</td>\n",
       "      <td>7.185</td>\n",
       "      <td>61.1</td>\n",
       "      <td>4.9671</td>\n",
       "      <td>2</td>\n",
       "      <td>242</td>\n",
       "      <td>17.8</td>\n",
       "      <td>392.83</td>\n",
       "      <td>4.03</td>\n",
       "      <td>34.7</td>\n",
       "    </tr>\n",
       "    <tr>\n",
       "      <th>3</th>\n",
       "      <td>0.03237</td>\n",
       "      <td>0.0</td>\n",
       "      <td>2.18</td>\n",
       "      <td>0</td>\n",
       "      <td>0.458</td>\n",
       "      <td>6.998</td>\n",
       "      <td>45.8</td>\n",
       "      <td>6.0622</td>\n",
       "      <td>3</td>\n",
       "      <td>222</td>\n",
       "      <td>18.7</td>\n",
       "      <td>394.63</td>\n",
       "      <td>2.94</td>\n",
       "      <td>33.4</td>\n",
       "    </tr>\n",
       "    <tr>\n",
       "      <th>4</th>\n",
       "      <td>0.06905</td>\n",
       "      <td>0.0</td>\n",
       "      <td>2.18</td>\n",
       "      <td>0</td>\n",
       "      <td>0.458</td>\n",
       "      <td>7.147</td>\n",
       "      <td>54.2</td>\n",
       "      <td>6.0622</td>\n",
       "      <td>3</td>\n",
       "      <td>222</td>\n",
       "      <td>18.7</td>\n",
       "      <td>396.90</td>\n",
       "      <td>5.33</td>\n",
       "      <td>36.2</td>\n",
       "    </tr>\n",
       "  </tbody>\n",
       "</table>\n",
       "</div>"
      ],
      "text/plain": [
       "      crim    zn  indus  chas    nox     rm   age     dis  rad  tax  ptratio  \\\n",
       "0  0.00632  18.0   2.31     0  0.538  6.575  65.2  4.0900    1  296     15.3   \n",
       "1  0.02731   0.0   7.07     0  0.469  6.421  78.9  4.9671    2  242     17.8   \n",
       "2  0.02729   0.0   7.07     0  0.469  7.185  61.1  4.9671    2  242     17.8   \n",
       "3  0.03237   0.0   2.18     0  0.458  6.998  45.8  6.0622    3  222     18.7   \n",
       "4  0.06905   0.0   2.18     0  0.458  7.147  54.2  6.0622    3  222     18.7   \n",
       "\n",
       "    black  lstat  medv  \n",
       "0  396.90   4.98  24.0  \n",
       "1  396.90   9.14  21.6  \n",
       "2  392.83   4.03  34.7  \n",
       "3  394.63   2.94  33.4  \n",
       "4  396.90   5.33  36.2  "
      ]
     },
     "execution_count": 1,
     "metadata": {},
     "output_type": "execute_result"
    }
   ],
   "source": [
    "import numpy as np\n",
    "import pandas as pd\n",
    "import matplotlib.pyplot as plt\n",
    "\n",
    "data = pd.read_csv(\"boston.csv\")\n",
    "data.isnull().sum()\n",
    "data.shape\n",
    "data.head()"
   ]
  },
  {
   "cell_type": "code",
   "execution_count": 2,
   "id": "99148f50",
   "metadata": {
    "scrolled": true
   },
   "outputs": [
    {
     "data": {
      "text/plain": [
       "crim      -0.388305\n",
       "zn         0.360445\n",
       "indus     -0.483725\n",
       "chas       0.175260\n",
       "nox       -0.427321\n",
       "rm         0.695360\n",
       "age       -0.376955\n",
       "dis        0.249929\n",
       "rad       -0.381626\n",
       "tax       -0.468536\n",
       "ptratio   -0.507787\n",
       "black      0.333461\n",
       "lstat     -0.737663\n",
       "medv       1.000000\n",
       "Name: medv, dtype: float64"
      ]
     },
     "execution_count": 2,
     "metadata": {},
     "output_type": "execute_result"
    }
   ],
   "source": [
    "corr = data.corr()['medv']\n",
    "corr"
   ]
  },
  {
   "cell_type": "code",
   "execution_count": 3,
   "id": "de984952",
   "metadata": {},
   "outputs": [
    {
     "data": {
      "image/png": "[encoded data removed]",
      "text/plain": [
       "<Figure size 432x288 with 1 Axes>"
      ]
     },
     "metadata": {
      "needs_background": "light"
     },
     "output_type": "display_data"
    }
   ],
   "source": [
    "plt.scatter(data['lstat'], data['medv'], s=30, edgecolor='white')\n",
    "plt.title('LSTAT-MEDV')\n",
    "plt.show()"
   ]
  },
  {
   "cell_type": "code",
   "execution_count": 4,
   "id": "e3c0882e",
   "metadata": {},
   "outputs": [
    {
     "data": {
      "image/png": "[encoded data removed]",
      "text/plain": [
       "<Figure size 432x288 with 1 Axes>"
      ]
     },
     "metadata": {
      "needs_background": "light"
     },
     "output_type": "display_data"
    }
   ],
   "source": [
    "plt.scatter(data['rm'], data['medv'], s=30, edgecolor='white')\n",
    "plt.title('RM-MEDV')\n",
    "plt.show()"
   ]
  },
  {
   "cell_type": "code",
   "execution_count": 5,
   "id": "8478e08b",
   "metadata": {},
   "outputs": [],
   "source": [
    "x_train = data.iloc[:400,:-1]\n",
    "y_train = data.iloc[:400, -1]\n",
    "x_test = data.iloc[400:,:-1]\n",
    "y_test = data.iloc[400:, -1]"
   ]
  },
  {
   "cell_type": "code",
   "execution_count": 6,
   "id": "9777ae6e",
   "metadata": {},
   "outputs": [],
   "source": [
    "from sklearn.linear_model import LinearRegression"
   ]
  },
  {
   "cell_type": "code",
   "execution_count": 7,
   "id": "abeaf491",
   "metadata": {},
   "outputs": [
    {
     "data": {
      "text/plain": [
       "array([12.61850663, 19.78572841, 20.91937035, 13.01450693,  6.94639182,\n",
       "        5.12303941,  7.26186345, 21.83998413, 16.08974671, 24.37596059,\n",
       "       17.31065044, 22.85734116,  5.19256091, 13.00577445, -3.49480533,\n",
       "       15.32299614, 20.10208497,  9.63027316,  6.80890367, 21.07620623,\n",
       "       22.82278496, 21.2342445 , 20.82905553, 19.52436299, 20.09331136,\n",
       "       15.44875815, 21.5531436 , 17.88962803, 19.81734917, 19.07828356,\n",
       "       23.68045913, 24.66708323, 27.11475737, 23.11075473, 21.08582662,\n",
       "       19.18303717, 20.70321586, 14.85286051, 10.17057277, 14.8513666 ,\n",
       "       13.70216217, 20.03720828, 21.48965737, 20.84258811, 14.94469636,\n",
       "       18.34178339, 21.34949998, 20.65957655, 19.89276593, 20.97828867,\n",
       "       23.92255669, 23.07201115, 21.55554208, 26.50514205, 22.39974578,\n",
       "       22.61959883, 19.36483779, 19.29809997, 21.19218049, 21.01686435,\n",
       "       23.88984255, 23.29129253, 22.54055051, 25.50940291, 22.7123066 ,\n",
       "       20.83810043, 20.85171438, 19.9367506 , 18.55326766, 19.77188332,\n",
       "       22.6670289 , 25.45480663, 25.29389825, 29.10598991, 18.19152683,\n",
       "       19.37436262, 23.33741591, 12.73647199, 21.39123449, 23.62695639,\n",
       "       25.78954767, 29.99986129, 31.79411982, 23.25264678, 22.10981215,\n",
       "       25.10352316, 22.11558101, 23.53213958, 10.45268955,  7.35523672,\n",
       "        2.76946701, 13.00298527, 15.08487977, 19.97803384, 20.18001293,\n",
       "       16.29984751, 13.18697382, 18.68422716, 21.01308814, 17.73095981,\n",
       "       20.24689934, 23.70317413, 21.96111308, 28.11649748, 26.49586313,\n",
       "       21.87142967])"
      ]
     },
     "execution_count": 7,
     "metadata": {},
     "output_type": "execute_result"
    }
   ],
   "source": [
    "LReg = LinearRegression()\n",
    "LReg.fit(x_train,y_train)\n",
    "pred = LReg.predict(x_test)\n",
    "pred"
   ]
  },
  {
   "cell_type": "code",
   "execution_count": 8,
   "id": "fcb0448b",
   "metadata": {},
   "outputs": [],
   "source": [
    "from sklearn.metrics import mean_squared_error,r2_score"
   ]
  },
  {
   "cell_type": "code",
   "execution_count": 17,
   "id": "e37cc08a",
   "metadata": {},
   "outputs": [
    {
     "name": "stdout",
     "output_type": "stream",
     "text": [
      " Linear Regression Error: 6.1557922804137615\n"
     ]
    },
    {
     "data": {
      "text/plain": [
       "-0.08975908459828164"
      ]
     },
     "execution_count": 17,
     "metadata": {},
     "output_type": "execute_result"
    }
   ],
   "source": [
    "error=np.sqrt(mean_squared_error(y_test, pred))\n",
    "print(\" Linear Regression Error:\",error)\n",
    "r2_score(pred, y_test)"
   ]
  },
  {
   "cell_type": "code",
   "execution_count": 10,
   "id": "031bc7da",
   "metadata": {},
   "outputs": [
    {
     "data": {
      "text/plain": [
       "Text(0.5, 1.0, 'LinearRegression Predict')"
      ]
     },
     "execution_count": 10,
     "metadata": {},
     "output_type": "execute_result"
    },
    {
     "data": {
      "image/png": "[encoded data removed]",
      "text/plain": [
       "<Figure size 432x288 with 1 Axes>"
      ]
     },
     "metadata": {
      "needs_background": "light"
     },
     "output_type": "display_data"
    }
   ],
   "source": [
    "t = range(len(y_test))\n",
    "plt.plot(t, y_test, 'r-', linewidth=2, label='real data')\n",
    "plt.plot(t, pred, 'g-', linewidth=2, label='predict data')\n",
    "plt.legend(loc='upper right')\n",
    "plt.title('LinearRegression Predict', fontsize=18)"
   ]
  },
  {
   "cell_type": "code",
   "execution_count": 11,
   "id": "399225ad",
   "metadata": {},
   "outputs": [
    {
     "data": {
      "text/html": [
       "<div>\n",
       "<style scoped>\n",
       "    .dataframe tbody tr th:only-of-type {\n",
       "        vertical-align: middle;\n",
       "    }\n",
       "\n",
       "    .dataframe tbody tr th {\n",
       "        vertical-align: top;\n",
       "    }\n",
       "\n",
       "    .dataframe thead th {\n",
       "        text-align: right;\n",
       "    }\n",
       "</style>\n",
       "<table border=\"1\" class=\"dataframe\">\n",
       "  <thead>\n",
       "    <tr style=\"text-align: right;\">\n",
       "      <th></th>\n",
       "      <th>lstat</th>\n",
       "      <th>rm</th>\n",
       "      <th>ptratio</th>\n",
       "    </tr>\n",
       "  </thead>\n",
       "  <tbody>\n",
       "    <tr>\n",
       "      <th>400</th>\n",
       "      <td>26.77</td>\n",
       "      <td>5.987</td>\n",
       "      <td>20.2</td>\n",
       "    </tr>\n",
       "    <tr>\n",
       "      <th>401</th>\n",
       "      <td>20.32</td>\n",
       "      <td>6.343</td>\n",
       "      <td>20.2</td>\n",
       "    </tr>\n",
       "    <tr>\n",
       "      <th>402</th>\n",
       "      <td>20.31</td>\n",
       "      <td>6.404</td>\n",
       "      <td>20.2</td>\n",
       "    </tr>\n",
       "    <tr>\n",
       "      <th>403</th>\n",
       "      <td>19.77</td>\n",
       "      <td>5.349</td>\n",
       "      <td>20.2</td>\n",
       "    </tr>\n",
       "    <tr>\n",
       "      <th>404</th>\n",
       "      <td>27.38</td>\n",
       "      <td>5.531</td>\n",
       "      <td>20.2</td>\n",
       "    </tr>\n",
       "    <tr>\n",
       "      <th>...</th>\n",
       "      <td>...</td>\n",
       "      <td>...</td>\n",
       "      <td>...</td>\n",
       "    </tr>\n",
       "    <tr>\n",
       "      <th>501</th>\n",
       "      <td>9.67</td>\n",
       "      <td>6.593</td>\n",
       "      <td>21.0</td>\n",
       "    </tr>\n",
       "    <tr>\n",
       "      <th>502</th>\n",
       "      <td>9.08</td>\n",
       "      <td>6.120</td>\n",
       "      <td>21.0</td>\n",
       "    </tr>\n",
       "    <tr>\n",
       "      <th>503</th>\n",
       "      <td>5.64</td>\n",
       "      <td>6.976</td>\n",
       "      <td>21.0</td>\n",
       "    </tr>\n",
       "    <tr>\n",
       "      <th>504</th>\n",
       "      <td>6.48</td>\n",
       "      <td>6.794</td>\n",
       "      <td>21.0</td>\n",
       "    </tr>\n",
       "    <tr>\n",
       "      <th>505</th>\n",
       "      <td>7.88</td>\n",
       "      <td>6.030</td>\n",
       "      <td>21.0</td>\n",
       "    </tr>\n",
       "  </tbody>\n",
       "</table>\n",
       "<p>106 rows × 3 columns</p>\n",
       "</div>"
      ],
      "text/plain": [
       "     lstat     rm  ptratio\n",
       "400  26.77  5.987     20.2\n",
       "401  20.32  6.343     20.2\n",
       "402  20.31  6.404     20.2\n",
       "403  19.77  5.349     20.2\n",
       "404  27.38  5.531     20.2\n",
       "..     ...    ...      ...\n",
       "501   9.67  6.593     21.0\n",
       "502   9.08  6.120     21.0\n",
       "503   5.64  6.976     21.0\n",
       "504   6.48  6.794     21.0\n",
       "505   7.88  6.030     21.0\n",
       "\n",
       "[106 rows x 3 columns]"
      ]
     },
     "execution_count": 11,
     "metadata": {},
     "output_type": "execute_result"
    }
   ],
   "source": [
    "boston = data[['lstat','rm','ptratio']]\n",
    "x1_train = boston.iloc[:400,:]\n",
    "y1_train = data.iloc[:400, -1]\n",
    "x1_test = boston.iloc[400:,:]\n",
    "y1_test = data.iloc[400:, -1]\n",
    "x1_test"
   ]
  },
  {
   "cell_type": "code",
   "execution_count": 12,
   "id": "84372a46",
   "metadata": {},
   "outputs": [],
   "source": [
    "# 数据归一化\n",
    "from sklearn import preprocessing\n",
    "min_max_scaler = preprocessing.MinMaxScaler()\n",
    "x1_train = min_max_scaler.fit_transform(x1_train)\n",
    "y1_train = min_max_scaler.fit_transform(y1_train.to_numpy().reshape(-1,1)) \n",
    "x1_test = min_max_scaler.fit_transform(x1_test)\n",
    "y1_test = min_max_scaler.fit_transform(y1_test.to_numpy().reshape(-1,1))\n"
   ]
  },
  {
   "cell_type": "code",
   "execution_count": 13,
   "id": "5476ec23",
   "metadata": {},
   "outputs": [
    {
     "data": {
      "text/plain": [
       "array([[ 0.29927185],\n",
       "       [ 0.45185989],\n",
       "       [ 0.46461796],\n",
       "       [ 0.2526812 ],\n",
       "       [ 0.19735723],\n",
       "       [ 0.28262864],\n",
       "       [-0.0418106 ],\n",
       "       [ 0.39972272],\n",
       "       [ 0.22715116],\n",
       "       [ 0.5638975 ],\n",
       "       [ 0.45527968],\n",
       "       [ 0.50590178],\n",
       "       [-0.07513992],\n",
       "       [ 0.20870569],\n",
       "       [-0.12962323],\n",
       "       [ 0.36399492],\n",
       "       [ 0.47593139],\n",
       "       [ 0.1593811 ],\n",
       "       [ 0.36823484],\n",
       "       [ 0.52191454],\n",
       "       [ 0.53073271],\n",
       "       [ 0.4385268 ],\n",
       "       [ 0.38392731],\n",
       "       [ 0.36584   ],\n",
       "       [ 0.32932899],\n",
       "       [ 0.30951469],\n",
       "       [ 0.40364158],\n",
       "       [ 0.49355143],\n",
       "       [ 0.40611943],\n",
       "       [ 0.41356217],\n",
       "       [ 0.48565582],\n",
       "       [ 0.56106191],\n",
       "       [ 0.57018236],\n",
       "       [ 0.52124258],\n",
       "       [ 0.48684873],\n",
       "       [ 0.47504262],\n",
       "       [ 0.50405135],\n",
       "       [ 0.33736239],\n",
       "       [ 0.19987663],\n",
       "       [ 0.27225093],\n",
       "       [ 0.32122802],\n",
       "       [ 0.47468918],\n",
       "       [ 0.4717693 ],\n",
       "       [ 0.49924366],\n",
       "       [ 0.30814899],\n",
       "       [ 0.431149  ],\n",
       "       [ 0.48237221],\n",
       "       [ 0.48023153],\n",
       "       [ 0.44590149],\n",
       "       [ 0.4795348 ],\n",
       "       [ 0.57116565],\n",
       "       [ 0.5481491 ],\n",
       "       [ 0.4796143 ],\n",
       "       [ 0.71312363],\n",
       "       [ 0.55129119],\n",
       "       [ 0.5163307 ],\n",
       "       [ 0.39185116],\n",
       "       [ 0.40886896],\n",
       "       [ 0.4931558 ],\n",
       "       [ 0.46628661],\n",
       "       [ 0.57369114],\n",
       "       [ 0.5280055 ],\n",
       "       [ 0.52385178],\n",
       "       [ 0.60968078],\n",
       "       [ 0.51089259],\n",
       "       [ 0.40655366],\n",
       "       [ 0.40961624],\n",
       "       [ 0.36920673],\n",
       "       [ 0.392251  ],\n",
       "       [ 0.38932391],\n",
       "       [ 0.46466497],\n",
       "       [ 0.51931387],\n",
       "       [ 0.54418628],\n",
       "       [ 0.68967056],\n",
       "       [ 0.28876354],\n",
       "       [ 0.36816014],\n",
       "       [ 0.50111459],\n",
       "       [ 0.18052855],\n",
       "       [ 0.44712389],\n",
       "       [ 0.51638012],\n",
       "       [ 0.54804378],\n",
       "       [ 0.68994518],\n",
       "       [ 0.76329068],\n",
       "       [ 0.45252597],\n",
       "       [ 0.4394108 ],\n",
       "       [ 0.56449975],\n",
       "       [ 0.46969968],\n",
       "       [ 0.46955699],\n",
       "       [ 0.30333865],\n",
       "       [ 0.22280927],\n",
       "       [ 0.08651702],\n",
       "       [ 0.41279597],\n",
       "       [ 0.47049305],\n",
       "       [ 0.50173974],\n",
       "       [ 0.52779058],\n",
       "       [ 0.42574346],\n",
       "       [ 0.32447013],\n",
       "       [ 0.49421326],\n",
       "       [ 0.55524509],\n",
       "       [ 0.43538174],\n",
       "       [ 0.53966647],\n",
       "       [ 0.56979697],\n",
       "       [ 0.47902964],\n",
       "       [ 0.69839595],\n",
       "       [ 0.65042748],\n",
       "       [ 0.47505536]])"
      ]
     },
     "execution_count": 13,
     "metadata": {},
     "output_type": "execute_result"
    }
   ],
   "source": [
    "LReg1 = LinearRegression()\n",
    "LReg1.fit(x1_train,y1_train)\n",
    "pred1 = LReg1.predict(x1_test)\n",
    "pred1"
   ]
  },
  {
   "cell_type": "code",
   "execution_count": 14,
   "id": "d3d171ea",
   "metadata": {},
   "outputs": [
    {
     "data": {
      "text/plain": [
       "Text(0.5, 1.0, 'LinearRegression Predict')"
      ]
     },
     "execution_count": 14,
     "metadata": {},
     "output_type": "execute_result"
    },
    {
     "data": {
      "image/png": "[encoded data removed]",
      "text/plain": [
       "<Figure size 432x288 with 1 Axes>"
      ]
     },
     "metadata": {
      "needs_background": "light"
     },
     "output_type": "display_data"
    }
   ],
   "source": [
    "s = range(len(y1_test))\n",
    "plt.plot(s, y1_test, 'r-', linewidth=2, label='real data')\n",
    "plt.plot(s, pred1, 'g-', linewidth=2, label='predict data')\n",
    "plt.legend(loc='upper right')\n",
    "plt.title('LinearRegression Predict', fontsize=18)"
   ]
  },
  {
   "cell_type": "code",
   "execution_count": 15,
   "id": "332d8dfa",
   "metadata": {},
   "outputs": [
    {
     "name": "stdout",
     "output_type": "stream",
     "text": [
      " Linear Regression1 Error: 0.18647687469839822\n"
     ]
    }
   ],
   "source": [
    "error1=np.sqrt(mean_squared_error(y1_test, pred1))\n",
    "print(\" Linear Regression1 Error:\",error1)"
   ]
  },
  {
   "cell_type": "code",
   "execution_count": 16,
   "id": "fe7af1b3",
   "metadata": {},
   "outputs": [
    {
     "data": {
      "text/plain": [
       "-0.5520922147746643"
      ]
     },
     "execution_count": 16,
     "metadata": {},
     "output_type": "execute_result"
    }
   ],
   "source": [
    "r2_score(pred1, y1_test)"
   ]
  },
  {
   "cell_type": "code",
   "execution_count": null,
   "id": "b236309f",
   "metadata": {},
   "outputs": [],
   "source": []
  }
 ],
 "metadata": {
  "kernelspec": {
   "display_name": "Python 3 (ipykernel)",
   "language": "python",
   "name": "python3"
  },
  "language_info": {
   "codemirror_mode": {
    "name": "ipython",
    "version": 3
   },
   "file_extension": ".py",
   "mimetype": "text/x-python",
   "name": "python",
   "nbconvert_exporter": "python",
   "pygments_lexer": "ipython3",
   "version": "3.8.13"
  }
 },
 "nbformat": 4,
 "nbformat_minor": 5
}
